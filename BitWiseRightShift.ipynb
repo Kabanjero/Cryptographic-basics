{
 "cells": [
  {
   "cell_type": "code",
   "execution_count": 1,
   "metadata": {},
   "outputs": [
    {
     "name": "stdout",
     "output_type": "stream",
     "text": [
      "209 0b11010001\n",
      "104 0b1101000\n",
      "52 0b110100\n",
      "26 0b11010\n"
     ]
    }
   ],
   "source": [
    "A=0b11010001\n",
    "print(A,bin(A))\n",
    "print(A>>1,bin(A>>1))\n",
    "print(A>>2,bin(A>>2))\n",
    "print(A>>3,bin(A>>3))"
   ]
  }
 ],
 "metadata": {
  "kernelspec": {
   "display_name": "Python 3",
   "language": "python",
   "name": "python3"
  },
  "language_info": {
   "codemirror_mode": {
    "name": "ipython",
    "version": 3
   },
   "file_extension": ".py",
   "mimetype": "text/x-python",
   "name": "python",
   "nbconvert_exporter": "python",
   "pygments_lexer": "ipython3",
   "version": "3.10.13"
  }
 },
 "nbformat": 4,
 "nbformat_minor": 2
}
